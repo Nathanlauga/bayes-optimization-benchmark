{
 "cells": [
  {
   "cell_type": "markdown",
   "metadata": {},
   "source": [
    "# Benchmark : comparaison différents outils Python pour opti bayesienne\n",
    "\n",
    "Nous allons suivre le plan suivant pour faire un test entre les différentes solutions : \n",
    "- Création 4 jeux de données : \n",
    "    - 2 de classification binaire (un petit ~10 000 lignes, un plus gros ~1 000 000 lignes)\n",
    "    - 2 de regression (un petit ~10 000 lignes, un plus gros ~1 000 000 lignes)\n",
    "- Choix de 3 algorithmes par problématique :\n",
    "    - Classification : RandomForest, XGBoost et SVM\n",
    "    - Regression : Regression Linéaire, RandomForest, SVM\n",
    "\n",
    "Pour ce benchmark nous allons comparer les solutions de recherche d'hyperparamètres suivantes :\n",
    "- GridSearch\n",
    "- RandomSearch\n",
    "- Optimisation Bayesienne :\n",
    "    - `hyperopt` (utilise TPE)\n",
    "    - `dragonfly` (utilise GP-UCB)\n",
    "    - `scikit-optimize` (utilise GP)\n",
    "    - `BayesianOptimization` (utilise GP)\n",
    "    - `optuna` (utilise TPE)\n",
    "    \n",
    "Les librairies suivantes n'ont pas été retenues :\n",
    "- Spearmint : déprécié (python 2.7)\n",
    "- Sigopt : besoin d'un compte\n",
    "- GPyOpt : n'est plus maintenu\n",
    "\n",
    "\n",
    "**Critères de comparaisons :**\n",
    "- Score obtenu sur la CV et sur le test\n",
    "- temps d'exécution total\n",
    "- bonus : graphs et détails accessibles pour la recherche\n",
    "    \n",
    "\n",
    "## Chargement des librairies"
   ]
  },
  {
   "cell_type": "code",
   "execution_count": 1,
   "metadata": {},
   "outputs": [],
   "source": [
    "%load_ext autoreload\n",
    "%autoreload 2"
   ]
  },
  {
   "cell_type": "code",
   "execution_count": 2,
   "metadata": {},
   "outputs": [],
   "source": [
    "import numpy as np\n",
    "import pandas as pd\n",
    "import matplotlib.pyplot as plt\n",
    "from time import time\n",
    "import gc\n",
    "\n",
    "from sklearn.datasets import make_classification, make_regression\n",
    "from sklearn.ensemble import RandomForestClassifier, RandomForestRegressor\n",
    "from sklearn.model_selection import (\n",
    "    cross_val_score, RandomizedSearchCV, train_test_split, GridSearchCV\n",
    ")\n",
    "from sklearn.metrics import (\n",
    "    precision_score, confusion_matrix, accuracy_score, roc_auc_score, make_scorer, recall_score, f1_score)\n",
    "\n",
    "from hyperopt import hp\n",
    "from hyperopt.pyll import scope\n",
    "from scipy.stats import uniform, randint"
   ]
  },
  {
   "cell_type": "markdown",
   "metadata": {},
   "source": [
    "## Création des jeux de données"
   ]
  },
  {
   "cell_type": "code",
   "execution_count": 3,
   "metadata": {},
   "outputs": [],
   "source": [
    "dfs = {}"
   ]
  },
  {
   "cell_type": "code",
   "execution_count": 4,
   "metadata": {},
   "outputs": [
    {
     "name": "stdout",
     "output_type": "stream",
     "text": [
      "Train\n",
      "(6000,)\n",
      "0    0.594833\n",
      "1    0.405167\n",
      "dtype: float64\n",
      "Test\n",
      "(4000,)\n",
      "0    0.608\n",
      "1    0.392\n",
      "dtype: float64\n"
     ]
    }
   ],
   "source": [
    "np.random.seed(42)\n",
    "n_features = 15\n",
    "\n",
    "X,y = make_classification(n_samples= 10_000,\n",
    "                          n_features= n_features,\n",
    "                          n_informative= 10,\n",
    "                          n_classes= 2,\n",
    "                          n_repeated= 2,\n",
    "                          n_redundant= 2,\n",
    "                          n_clusters_per_class= 3,\n",
    "                          class_sep= .7,\n",
    "                          weights= [.6],\n",
    "                          flip_y= 0,\n",
    "                          shuffle= False,\n",
    "                          random_state= 5)\n",
    "\n",
    "X_train, X_test, y_train, y_test = train_test_split(X, y, train_size=.6)\n",
    "\n",
    "print('Train')\n",
    "print(y_train.shape)\n",
    "print(pd.Series(y_train).value_counts(normalize=True))\n",
    "\n",
    "print('Test')\n",
    "print(y_test.shape)\n",
    "print(pd.Series(y_test).value_counts(normalize=True))\n",
    "\n",
    "dfs['CLF 10 000 rows (.4 pos)'] = (X_train, y_train, X_test, y_test)"
   ]
  },
  {
   "cell_type": "code",
   "execution_count": 5,
   "metadata": {},
   "outputs": [
    {
     "name": "stdout",
     "output_type": "stream",
     "text": [
      "Train\n",
      "(6000,)\n",
      "1    0.899667\n",
      "0    0.100333\n",
      "dtype: float64\n",
      "Test\n",
      "(4000,)\n",
      "1    0.9005\n",
      "0    0.0995\n",
      "dtype: float64\n"
     ]
    }
   ],
   "source": [
    "np.random.seed(42)\n",
    "n_features = 40\n",
    "\n",
    "X,y = make_classification(n_samples= 10_000,\n",
    "                          n_features= n_features,\n",
    "                          n_informative= 30,\n",
    "                          n_classes= 2,\n",
    "                          n_repeated= 2,\n",
    "                          n_redundant= 2,\n",
    "                          n_clusters_per_class= 3,\n",
    "                          class_sep= .7,\n",
    "                          weights= [.1],\n",
    "                          flip_y= 0,\n",
    "                          shuffle= False,\n",
    "                          random_state= 5)\n",
    "\n",
    "X_train, X_test, y_train, y_test = train_test_split(X, y, train_size=.6)\n",
    "\n",
    "print('Train')\n",
    "print(y_train.shape)\n",
    "print(pd.Series(y_train).value_counts(normalize=True))\n",
    "\n",
    "print('Test')\n",
    "print(y_test.shape)\n",
    "print(pd.Series(y_test).value_counts(normalize=True))\n",
    "\n",
    "dfs['CLF 10 000 rows (.1 pos)'] = (X_train, y_train, X_test, y_test)"
   ]
  },
  {
   "cell_type": "code",
   "execution_count": 6,
   "metadata": {},
   "outputs": [
    {
     "name": "stdout",
     "output_type": "stream",
     "text": [
      "Train\n",
      "(60000,)\n",
      "1    0.500917\n",
      "0    0.499083\n",
      "dtype: float64\n",
      "Test\n",
      "(40000,)\n",
      "0    0.501375\n",
      "1    0.498625\n",
      "dtype: float64\n"
     ]
    }
   ],
   "source": [
    "np.random.seed(42)\n",
    "n_features = 30\n",
    "\n",
    "X,y = make_classification(n_samples= 100_000,\n",
    "                          n_features= n_features,\n",
    "                          n_informative= 15,\n",
    "                          n_classes= 2,\n",
    "                          n_repeated= 2,\n",
    "                          n_redundant= 2,\n",
    "                          n_clusters_per_class= 3,\n",
    "                          class_sep= .7,\n",
    "                          weights= [.5],\n",
    "                          flip_y= 0,\n",
    "                          shuffle= False,\n",
    "                          random_state= 5)\n",
    "\n",
    "X_train, X_test, y_train, y_test = train_test_split(X, y, train_size=.6)\n",
    "\n",
    "print('Train')\n",
    "print(y_train.shape)\n",
    "print(pd.Series(y_train).value_counts(normalize=True))\n",
    "\n",
    "print('Test')\n",
    "print(y_test.shape)\n",
    "print(pd.Series(y_test).value_counts(normalize=True))\n",
    "\n",
    "dfs['CLF 100 000 rows (.5 pos)'] = (X_train, y_train, X_test, y_test)"
   ]
  },
  {
   "cell_type": "code",
   "execution_count": 7,
   "metadata": {},
   "outputs": [
    {
     "data": {
      "text/plain": [
       "['CLF 10 000 rows (.4 pos)',\n",
       " 'CLF 10 000 rows (.1 pos)',\n",
       " 'CLF 100 000 rows (.5 pos)']"
      ]
     },
     "execution_count": 7,
     "metadata": {},
     "output_type": "execute_result"
    }
   ],
   "source": [
    "list(dfs.keys())"
   ]
  },
  {
   "cell_type": "markdown",
   "metadata": {},
   "source": [
    "## Implémentation des algo de recherche"
   ]
  },
  {
   "cell_type": "code",
   "execution_count": 8,
   "metadata": {},
   "outputs": [],
   "source": [
    "from benchmark_utils import opt_skopt, opt_bayesianopti, opt_hyperopt, opt_optuna, opt_random"
   ]
  },
  {
   "cell_type": "code",
   "execution_count": 9,
   "metadata": {},
   "outputs": [],
   "source": [
    "# test params\n",
    "estimator = RandomForestClassifier(n_estimators=30)\n",
    "scoring = 'accuracy'\n",
    "cv = 4\n",
    "n_iter = 3\n",
    "maximize = True\n",
    "X_train, y_train, X_test, y_test = dfs['CLF 10 000 rows (.4 pos)']"
   ]
  },
  {
   "cell_type": "code",
   "execution_count": 10,
   "metadata": {},
   "outputs": [],
   "source": [
    "opt_dict = {}"
   ]
  },
  {
   "cell_type": "markdown",
   "metadata": {},
   "source": [
    "### GridSearch"
   ]
  },
  {
   "cell_type": "code",
   "execution_count": 11,
   "metadata": {},
   "outputs": [],
   "source": [
    "param_search = {\n",
    "    'criterion': ['gini','entropy'],\n",
    "    'max_depth': [None, 2, 5, 10, 25, 100],\n",
    "    'max_features': [None, 3, 5, 7, 10],\n",
    "    'min_samples_leaf': [1, 3, 5, 10],\n",
    "    'min_samples_split': [2, 5, 10, 25, 50],\n",
    "}\n",
    "estimator = RandomForestClassifier(n_estimators=30)\n",
    "scoring = 'accuracy'\n",
    "cv = 4\n",
    "\n",
    "# opt = GridSearchCV(estimator, param_search, cv=cv, scoring=scoring)\n",
    "# opt.fit(X_train, y_train)"
   ]
  },
  {
   "cell_type": "markdown",
   "metadata": {},
   "source": [
    "### RandomSearch"
   ]
  },
  {
   "cell_type": "code",
   "execution_count": 12,
   "metadata": {},
   "outputs": [
    {
     "name": "stdout",
     "output_type": "stream",
     "text": [
      "Fitting 4 folds for each of 3 candidates, totalling 12 fits\n"
     ]
    },
    {
     "name": "stderr",
     "output_type": "stream",
     "text": [
      "[Parallel(n_jobs=1)]: Using backend SequentialBackend with 1 concurrent workers.\n",
      "[Parallel(n_jobs=1)]: Done  12 out of  12 | elapsed:   23.3s finished\n"
     ]
    }
   ],
   "source": [
    "from scipy.stats import uniform, randint\n",
    "\n",
    "param_search = {\n",
    "    'criterion': ['gini','entropy'],\n",
    "    'max_depth': randint(2, 200),\n",
    "    'max_features': randint(2,10),\n",
    "    'min_samples_leaf': randint(1, 10),\n",
    "    'min_samples_split': randint(2, 50),\n",
    "}\n",
    "\n",
    "random = opt_random(estimator, param_search, scoring, cv, n_iter, maximize, X_train, y_train)"
   ]
  },
  {
   "cell_type": "code",
   "execution_count": 13,
   "metadata": {},
   "outputs": [
    {
     "data": {
      "text/plain": [
       "{'opt': RandomizedSearchCV(cv=4, estimator=RandomForestClassifier(n_estimators=30),\n",
       "                    n_iter=3, n_jobs=1,\n",
       "                    param_distributions={'criterion': ['gini', 'entropy'],\n",
       "                                         'max_depth': <scipy.stats._distn_infrastructure.rv_frozen object at 0x00000255FED6BE88>,\n",
       "                                         'max_features': <scipy.stats._distn_infrastructure.rv_frozen object at 0x00000255FED6BF48>,\n",
       "                                         'min_samples_leaf': <scipy.stats._distn_infrastructure.rv_frozen object at 0x00000255FED71448>,\n",
       "                                         'min_samples_split': <scipy.stats._distn_infrastructure.rv_frozen object at 0x00000255FED71408>},\n",
       "                    scoring='accuracy', verbose=1),\n",
       " 'model': RandomForestClassifier(max_depth=74, max_features=4, min_samples_leaf=3,\n",
       "                        min_samples_split=14, n_estimators=30),\n",
       " 'best_score_': 0.8678333333333332,\n",
       " 'results': array([0.85      , 0.85583333, 0.86783333]),\n",
       " 'idx_best_score': 2,\n",
       " 'time': 25.870162963867188}"
      ]
     },
     "execution_count": 13,
     "metadata": {},
     "output_type": "execute_result"
    }
   ],
   "source": [
    "random"
   ]
  },
  {
   "cell_type": "markdown",
   "metadata": {},
   "source": [
    "### hyperopt (utilise TPE)"
   ]
  },
  {
   "cell_type": "code",
   "execution_count": 14,
   "metadata": {},
   "outputs": [
    {
     "name": "stdout",
     "output_type": "stream",
     "text": [
      "100%|██████████| 3/3 [00:23<00:00,  7.86s/trial, best loss: -0.8578333333333332]\n"
     ]
    }
   ],
   "source": [
    "from hyperopt import hp\n",
    "from hyperopt.pyll import scope\n",
    "\n",
    "# help function : http://hyperopt.github.io/hyperopt/getting-started/search_spaces/\n",
    "param_hyperopt = {\n",
    "    'criterion': hp.choice('criterion', ['gini','entropy']),\n",
    "    'max_depth': scope.int(hp.quniform('max_depth', 2, 200, 1)),\n",
    "    'max_features': hp.choice('max_features', ['auto', 'sqrt']),\n",
    "    'min_samples_leaf': scope.int(hp.quniform('min_samples_leaf', 1, 10, 1)),\n",
    "    'min_samples_split': scope.int(hp.quniform('min_samples_split', 2, 50, 1)),\n",
    "}\n",
    "\n",
    "res = opt_hyperopt(estimator, param_hyperopt, scoring, cv, n_iter, maximize, X_train, y_train)"
   ]
  },
  {
   "cell_type": "code",
   "execution_count": 15,
   "metadata": {},
   "outputs": [
    {
     "data": {
      "text/plain": [
       "{'trials': <hyperopt.base.Trials at 0x255fed9bf48>,\n",
       " 'best_param': {'criterion': 'entropy',\n",
       "  'max_depth': 67,\n",
       "  'max_features': 'sqrt',\n",
       "  'min_samples_leaf': 8,\n",
       "  'min_samples_split': 22},\n",
       " 'model': RandomForestClassifier(criterion='entropy', max_depth=67, max_features='sqrt',\n",
       "                        min_samples_leaf=8, min_samples_split=22,\n",
       "                        n_estimators=30),\n",
       " 'best_score_': 0.854,\n",
       " 'results': [-0.8565, -0.8578333333333332, -0.8464999999999999],\n",
       " 'idx_best_score': 1,\n",
       " 'time': 35.6468551158905}"
      ]
     },
     "execution_count": 15,
     "metadata": {},
     "output_type": "execute_result"
    }
   ],
   "source": [
    "res"
   ]
  },
  {
   "cell_type": "markdown",
   "metadata": {},
   "source": [
    "### scikit-optimize (utilise GP)"
   ]
  },
  {
   "cell_type": "code",
   "execution_count": 16,
   "metadata": {},
   "outputs": [],
   "source": [
    "from bayes_opti_utils import BayesianSearchCV as BayesianSearchCV_skopt\n",
    "\n",
    "param_search = {\n",
    "    'criterion': ['gini','entropy'],\n",
    "    'max_depth': (2, 200),\n",
    "    'max_features': (2,10),\n",
    "    'min_samples_leaf': (1, 10),\n",
    "    'min_samples_split': (2, 50),\n",
    "}\n",
    "\n",
    "res = opt_skopt(estimator, param_search, scoring, cv, n_iter, maximize, X_train, y_train)"
   ]
  },
  {
   "cell_type": "code",
   "execution_count": 17,
   "metadata": {},
   "outputs": [
    {
     "data": {
      "text/plain": [
       "{'opt': <bayes_opti_utils.BayesianSearchCV at 0x255fed9b908>,\n",
       " 'model': RandomForestClassifier(max_depth=38, max_features=8, min_samples_leaf=6,\n",
       "                        min_samples_split=23, n_estimators=30, random_state=42),\n",
       " 'best_score_': 0.8626666666666666,\n",
       " 'results': array([-0.86266667, -0.85866667, -0.85316667]),\n",
       " 'idx_best_score': 0,\n",
       " 'time': 57.57093644142151}"
      ]
     },
     "execution_count": 17,
     "metadata": {},
     "output_type": "execute_result"
    }
   ],
   "source": [
    "res"
   ]
  },
  {
   "cell_type": "markdown",
   "metadata": {},
   "source": [
    "### BayesianOptimization (utilise GP)"
   ]
  },
  {
   "cell_type": "code",
   "execution_count": 18,
   "metadata": {},
   "outputs": [],
   "source": [
    "from bayes_opt import BayesianOptimization\n",
    "from scipy.stats import uniform, randint\n",
    "\n",
    "param_search = {\n",
    "    'criterion': (0, 2),\n",
    "    'max_depth': (2, 200),\n",
    "    'max_features': (2,10),\n",
    "    'min_samples_leaf': (1, 10),\n",
    "    'min_samples_split': (2, 50),\n",
    "}\n",
    "param_details = {\n",
    "    'criterion': ['gini','entropy'],\n",
    "    'max_depth': 'int',\n",
    "    'max_features': 'int',\n",
    "    'min_samples_leaf': 'int',\n",
    "    'min_samples_split': 'int',    \n",
    "}\n",
    "\n",
    "res = opt_bayesianopti(estimator, param_search, param_details, scoring, cv, n_iter, maximize, X_train, y_train)"
   ]
  },
  {
   "cell_type": "code",
   "execution_count": 19,
   "metadata": {},
   "outputs": [
    {
     "data": {
      "text/plain": [
       "{'opt': <bayes_opt.bayesian_optimization.BayesianOptimization at 0x255fed6bb88>,\n",
       " 'model': RandomForestClassifier(criterion='entropy', max_depth=190, max_features=6,\n",
       "                        min_samples_leaf=6, min_samples_split=8, n_estimators=30,\n",
       "                        random_state=42),\n",
       " 'best_score_': 0.8703333333333334,\n",
       " 'results': [0.8700000000000001, 0.855, 0.8703333333333334],\n",
       " 'idx_best_score': 2,\n",
       " 'time': 51.690571784973145}"
      ]
     },
     "execution_count": 19,
     "metadata": {},
     "output_type": "execute_result"
    }
   ],
   "source": [
    "res"
   ]
  },
  {
   "cell_type": "markdown",
   "metadata": {},
   "source": [
    "### optuna (utilise TPE)"
   ]
  },
  {
   "cell_type": "code",
   "execution_count": 20,
   "metadata": {},
   "outputs": [
    {
     "name": "stderr",
     "output_type": "stream",
     "text": [
      "\u001b[32m[I 2021-02-02 13:02:40,946]\u001b[0m A new study created in memory with name: no-name-9ace4ace-1fa8-40ed-8411-32a10d80a520\u001b[0m\n",
      "\u001b[32m[I 2021-02-02 13:02:53,123]\u001b[0m Trial 0 finished with value: 0.8645 and parameters: {'criterion': 'gini', 'max_depth': 82, 'max_features': 10, 'min_samples_leaf': 9, 'min_samples_split': 5}. Best is trial 0 with value: 0.8645.\u001b[0m\n",
      "\u001b[32m[I 2021-02-02 13:02:59,072]\u001b[0m Trial 1 finished with value: 0.8443333333333334 and parameters: {'criterion': 'entropy', 'max_depth': 154, 'max_features': 2, 'min_samples_leaf': 2, 'min_samples_split': 45}. Best is trial 0 with value: 0.8645.\u001b[0m\n",
      "\u001b[32m[I 2021-02-02 13:03:11,708]\u001b[0m Trial 2 finished with value: 0.8556666666666666 and parameters: {'criterion': 'gini', 'max_depth': 79, 'max_features': 9, 'min_samples_leaf': 1, 'min_samples_split': 49}. Best is trial 0 with value: 0.8645.\u001b[0m\n"
     ]
    }
   ],
   "source": [
    "# https://optuna.readthedocs.io/en/stable/reference/generated/optuna.trial.Trial.html#optuna.trial.Trial\n",
    "param_search = {\n",
    "    'criterion': ('categorical', ['gini','entropy']),\n",
    "    'max_depth': ('int', 2, 200),\n",
    "    'max_features': ('int', 2,10),\n",
    "    'min_samples_leaf': ('int', 1, 10),\n",
    "    'min_samples_split': ('int', 2, 50),\n",
    "}\n",
    "\n",
    "res = opt_optuna(estimator, param_search, scoring, cv, n_iter, maximize, X_train, y_train)"
   ]
  },
  {
   "cell_type": "code",
   "execution_count": 21,
   "metadata": {},
   "outputs": [
    {
     "data": {
      "text/plain": [
       "{'opt': <optuna.study.Study at 0x255fed9b208>,\n",
       " 'model': RandomForestClassifier(max_depth=82, max_features=10, min_samples_leaf=9,\n",
       "                        min_samples_split=5, n_estimators=30, random_state=42),\n",
       " 'best_score_': 0.8645,\n",
       " 'results': [0.8645, 0.8443333333333334, 0.8556666666666666],\n",
       " 'idx_best_score': 0,\n",
       " 'time': 47.634355306625366}"
      ]
     },
     "execution_count": 21,
     "metadata": {},
     "output_type": "execute_result"
    }
   ],
   "source": [
    "res"
   ]
  },
  {
   "cell_type": "markdown",
   "metadata": {},
   "source": [
    "## Benchmark function"
   ]
  },
  {
   "cell_type": "code",
   "execution_count": 22,
   "metadata": {},
   "outputs": [],
   "source": [
    "def benchmark_baye_opt(X_train, y_train, X_test, y_test, estimator, params, scoring, cv, n_iter, maximize, score_fn, n_jobs=1):\n",
    "    results = {}\n",
    "    \n",
    "    clf_base = estimator\n",
    "    clf_base.fit(X_train, y_train)\n",
    "\n",
    "    score = cross_val_score(clf_base, X_train, y_train, cv=cv, scoring=scoring, n_jobs=n_jobs).mean()\n",
    "    score_test = score_fn(clf_base.predict(X_test), y_test)\n",
    "    \n",
    "    results['base'] = {\n",
    "        'best_score_': score,\n",
    "        'test_score': score_test\n",
    "    }\n",
    "    \n",
    "    print('==== BASE ====')\n",
    "    print('train best score : %.4f | test score : %.4f'%(score, score_test))\n",
    "    print()    \n",
    "    \n",
    "    for method, (opt_fn, search_params) in params.items() :\n",
    "        print('Méthode :', method)\n",
    "        \n",
    "        if method == 'BayesianOptimization':\n",
    "            param_details = search_params[1]\n",
    "            params = search_params[0]\n",
    "            \n",
    "            res = opt_fn(estimator, params, param_details, scoring, cv, n_iter, maximize, X_train, y_train, n_jobs=n_jobs)\n",
    "        else:\n",
    "            res = opt_fn(estimator, search_params, scoring, cv, n_iter, maximize, X_train, y_train, n_jobs=n_jobs)\n",
    "        \n",
    "        test_score = score_fn(res['model'].predict(X_test), y_test)\n",
    "        res['test_score'] = test_score\n",
    "        \n",
    "        results[method] = res\n",
    "        print('======')\n",
    "        print('temps écoulé : %.2fs'%res['time'])\n",
    "        print('train best score : %.4f | test score : %.4f'%(res['best_score_'],res['test_score']))\n",
    "        print('======')\n",
    "        print()\n",
    "        \n",
    "    return results"
   ]
  },
  {
   "cell_type": "markdown",
   "metadata": {},
   "source": [
    "### RF param search"
   ]
  },
  {
   "cell_type": "code",
   "execution_count": 23,
   "metadata": {},
   "outputs": [],
   "source": [
    "random_param = {\n",
    "    'criterion': ['gini','entropy'],\n",
    "    'max_depth': randint(2, 200),\n",
    "    'max_features': randint(2,10),\n",
    "    'min_samples_leaf': randint(1, 10),\n",
    "    'min_samples_split': randint(2, 50),\n",
    "}\n",
    "bayesopt_param = {\n",
    "    'criterion': (0, 2),\n",
    "    'max_depth': (2, 200),\n",
    "    'max_features': (2,10),\n",
    "    'min_samples_leaf': (1, 10),\n",
    "    'min_samples_split': (2, 50),\n",
    "}\n",
    "bayesopt_details = {\n",
    "    'criterion': ['gini','entropy'],\n",
    "    'max_depth': 'int',\n",
    "    'max_features': 'int',\n",
    "    'min_samples_leaf': 'int',\n",
    "    'min_samples_split': 'int',    \n",
    "}\n",
    "optuna_param = {\n",
    "    'criterion': ('categorical', ['gini','entropy']),\n",
    "    'max_depth': ('int', 2, 200),\n",
    "    'max_features': ('int', 2,10),\n",
    "    'min_samples_leaf': ('int', 1, 10),\n",
    "    'min_samples_split': ('int', 2, 50),\n",
    "}\n",
    "skopt_param = {\n",
    "    'criterion': ['gini','entropy'],\n",
    "    'max_depth': (2, 200),\n",
    "    'max_features': (2,10),\n",
    "    'min_samples_leaf': (1, 10),\n",
    "    'min_samples_split': (2, 50),\n",
    "}\n",
    "hyperopt_param = {\n",
    "    'criterion': hp.choice('criterion', ['gini','entropy']),\n",
    "    'max_depth': scope.int(hp.quniform('max_depth', 2, 200, 1)),\n",
    "    'max_features': hp.choice('max_features', ['auto', 'sqrt']),\n",
    "    'min_samples_leaf': scope.int(hp.quniform('min_samples_leaf', 1, 10, 1)),\n",
    "    'min_samples_split': scope.int(hp.quniform('min_samples_split', 2, 50, 1)),\n",
    "}"
   ]
  },
  {
   "cell_type": "code",
   "execution_count": 24,
   "metadata": {},
   "outputs": [],
   "source": [
    "clf_rf_params = {\n",
    "    'RandomSearch': (opt_random, random_param),\n",
    "    'skopt': (opt_skopt, skopt_param),\n",
    "    'BayesianOptimization': (opt_bayesianopti, [bayesopt_param, bayesopt_details]),\n",
    "    'optuna': (opt_optuna, optuna_param),\n",
    "    'hyperopt': (opt_hyperopt, hyperopt_param),\n",
    "}"
   ]
  },
  {
   "cell_type": "markdown",
   "metadata": {},
   "source": [
    "### XGB Param search"
   ]
  },
  {
   "cell_type": "code",
   "execution_count": 25,
   "metadata": {},
   "outputs": [],
   "source": [
    "from skopt.space.space import Real, Integer, Categorical\n",
    "\n",
    "random_param = {\n",
    "    'max_depth': randint(2, 200),\n",
    "    'subsample': uniform(.6, .4),\n",
    "    'colsample_bytree': uniform(.6, .4),\n",
    "    'colsample_bylevel': uniform(.6, .4),\n",
    "    'min_child_weight': uniform(.1, 10),\n",
    "    'gamma': uniform(0, 1),\n",
    "    'eta': uniform(.01, .4),\n",
    "}\n",
    "bayesopt_param = {\n",
    "    'max_depth': (2, 200),\n",
    "    'subsample': (.6, 1),\n",
    "    'colsample_bytree': (.6, 1),\n",
    "    'colsample_bylevel': (.6, 1),\n",
    "    'min_child_weight': (.1, 10),\n",
    "    'gamma': (0, 1),\n",
    "    'eta': (.01, .4),\n",
    "}\n",
    "bayesopt_details = {\n",
    "    'max_depth': 'int',\n",
    "    'subsample': 'float',\n",
    "    'colsample_bytree': 'float',\n",
    "    'colsample_bylevel': 'float',\n",
    "    'min_child_weight': 'float',\n",
    "    'gamma': 'float',\n",
    "    'eta': 'float',    \n",
    "}\n",
    "optuna_param = {\n",
    "    'max_depth': ('int', 2, 200),\n",
    "    'subsample': ('uniform', .6, 1),\n",
    "    'colsample_bytree': ('uniform', .6, 1),\n",
    "    'colsample_bylevel': ('uniform', .6, 1),\n",
    "    'min_child_weight': ('uniform', .1, 10),\n",
    "    'gamma': ('uniform', 0, 1),\n",
    "    'eta': ('uniform', .01, .4),\n",
    "}\n",
    "skopt_param = {\n",
    "    'max_depth': Integer(2, 200),\n",
    "    'subsample': Real(.6, 1),\n",
    "    'colsample_bytree': Real(.6, 1),\n",
    "    'colsample_bylevel': Real(.6, 1),\n",
    "    'min_child_weight': Real(.1, 10),\n",
    "    'gamma': Real(0, 1),\n",
    "    'eta': Real(.01, .4),\n",
    "}\n",
    "hyperopt_param = {\n",
    "    'max_depth': scope.int(hp.quniform('max_depth', 2, 200, 1)),\n",
    "    'subsample': hp.uniform('subsample', .6, 1),\n",
    "    'colsample_bytree': hp.uniform('colsample_bytree', .6, 1),\n",
    "    'colsample_bylevel': hp.uniform('colsample_bylevel', .6, 1),\n",
    "    'min_child_weight': hp.uniform('min_child_weight', .6, 1),\n",
    "    'gamma': hp.uniform('gamma', 0, 1),\n",
    "    'eta': hp.uniform('eta', .01, .4),\n",
    "}"
   ]
  },
  {
   "cell_type": "code",
   "execution_count": 26,
   "metadata": {},
   "outputs": [],
   "source": [
    "clf_xgb_params = {\n",
    "    'RandomSearch': (opt_random, random_param),\n",
    "    'skopt': (opt_skopt, skopt_param),\n",
    "    'BayesianOptimization': (opt_bayesianopti, [bayesopt_param, bayesopt_details]),\n",
    "    'optuna': (opt_optuna, optuna_param),\n",
    "    'hyperopt': (opt_hyperopt, hyperopt_param),\n",
    "}"
   ]
  },
  {
   "cell_type": "markdown",
   "metadata": {},
   "source": [
    "### Param SVM"
   ]
  },
  {
   "cell_type": "code",
   "execution_count": 27,
   "metadata": {},
   "outputs": [],
   "source": [
    "from sklearn.svm import SVC"
   ]
  },
  {
   "cell_type": "code",
   "execution_count": 28,
   "metadata": {},
   "outputs": [],
   "source": [
    "from scipy.stats import loguniform\n",
    "\n",
    "random_param = {\n",
    "    'kernel': ['poly', 'rbf'],\n",
    "    'gamma': loguniform(1e-5, 1e-2),\n",
    "    'C': loguniform(1, 1000),\n",
    "}\n",
    "\n",
    "bayesopt_param = {\n",
    "    'kernel': (0,4),\n",
    "    'gamma': (1e-5, 1e-2),\n",
    "    'C': (1, 1000),\n",
    "}\n",
    "bayesopt_details = {\n",
    "    'kernel':  ['poly', 'rbf'],\n",
    "    'gamma': 'float',\n",
    "    'C': 'float',\n",
    "}\n",
    "optuna_param = {\n",
    "    'kernel': ('categorical', ['poly', 'rbf']),\n",
    "    'gamma': ('loguniform', 1e-5, 1e-2),\n",
    "    'C': ('loguniform', 1, 1000),\n",
    "}\n",
    "skopt_param = {\n",
    "    'kernel': ['poly', 'rbf'],\n",
    "    'gamma': Real(1e-5, 1e-2, prior='log-uniform'),\n",
    "    'C': Real(1, 1000, prior='log-uniform'),\n",
    "}\n",
    "hyperopt_param = {\n",
    "    'kernel': hp.choice('kernel', [ 'poly', 'rbf']),\n",
    "    'gamma': hp.qloguniform('gamma', 1e-5, 1e-2, 1),\n",
    "    'C': hp.qloguniform('C', 1, 1000, 1),\n",
    "}"
   ]
  },
  {
   "cell_type": "code",
   "execution_count": 29,
   "metadata": {},
   "outputs": [],
   "source": [
    "clf_svm_params = {\n",
    "    'RandomSearch': (opt_random, random_param),\n",
    "    'skopt': (opt_skopt, skopt_param),\n",
    "    'BayesianOptimization': (opt_bayesianopti, [bayesopt_param, bayesopt_details]),\n",
    "    'optuna': (opt_optuna, optuna_param),\n",
    "#     'hyperopt': (opt_hyperopt, hyperopt_param),\n",
    "}"
   ]
  },
  {
   "cell_type": "markdown",
   "metadata": {},
   "source": [
    "### Fonctions utils"
   ]
  },
  {
   "cell_type": "code",
   "execution_count": 30,
   "metadata": {},
   "outputs": [],
   "source": [
    "import joblib\n",
    "\n",
    "def format_results(res):\n",
    "    res_format = {}\n",
    "    ignore_keys = ['opt']\n",
    "    \n",
    "    for method, opt in res.items():\n",
    "        tmp = {}\n",
    "        for k, v in opt.items():\n",
    "            if k in ignore_keys:\n",
    "                continue\n",
    "            tmp[k] = v\n",
    "        res_format[method] = tmp\n",
    "    \n",
    "    return res_format\n",
    "\n",
    "def save_results(res, fpath):\n",
    "    results_formated = format_results(res)\n",
    "    \n",
    "    with open(fpath, 'wb') as file:\n",
    "        joblib.dump(results_formated, file, compress='gzip')"
   ]
  },
  {
   "cell_type": "code",
   "execution_count": 31,
   "metadata": {},
   "outputs": [],
   "source": [
    "def plot_convergence(results):\n",
    "    fig, ax = plt.subplots(figsize=(12,7))\n",
    "    \n",
    "    for k, opt in results.items():\n",
    "        if k == 'base':\n",
    "            continue\n",
    "        scores = -np.abs(opt['results'])\n",
    "        \n",
    "        hist_score = [scores[0]]\n",
    "        for s in scores[1:]:\n",
    "            hist_score += [np.min([hist_score[-1], s])]\n",
    "        \n",
    "        ax.plot(range(1,len(hist_score)+1), hist_score, label=k)\n",
    "        ax.scatter(range(1,len(hist_score)+1), hist_score, s=20)\n",
    "    \n",
    "    ax.legend()\n",
    "    ax.set_title('Convergence of different hyperparameter tuning methods')\n",
    "    ax.set_xlabel('iteration')\n",
    "    ax.set_ylabel('score')\n",
    "    ax.grid()\n",
    "    \n",
    "    plt.show()\n",
    "    \n",
    "def get_results_as_df(res):\n",
    "    cols = ['train_score','idx_best_score','time','test_score']\n",
    "\n",
    "    train_score = [v['best_score_'] for (k,v) in res.items() if k != 'base']\n",
    "    idx_best_score = [v['idx_best_score'] for (k,v) in res.items() if k != 'base']\n",
    "    times = [v['time'] for (k,v) in res.items() if k != 'base']\n",
    "    test_score = [v['test_score'] for(k,v) in res.items() if k != 'base']\n",
    "    # params = [v['model'].get_params() for v in results.values()]\n",
    "\n",
    "    data = [train_score, idx_best_score, times, test_score]\n",
    "\n",
    "    res_df = pd.DataFrame(data, index=cols, columns=list(res.keys())[1:]).T\n",
    "    \n",
    "    return res_df"
   ]
  },
  {
   "cell_type": "markdown",
   "metadata": {},
   "source": [
    "## Launch benchmark\n",
    "\n",
    "### RF Classifier"
   ]
  },
  {
   "cell_type": "code",
   "execution_count": 32,
   "metadata": {},
   "outputs": [],
   "source": [
    "import xgboost as xgb\n",
    "import warnings\n",
    "import optuna\n",
    "\n",
    "optuna.logging.set_verbosity(0)\n",
    "warnings.filterwarnings('ignore')"
   ]
  },
  {
   "cell_type": "code",
   "execution_count": 33,
   "metadata": {},
   "outputs": [],
   "source": [
    "results = {}"
   ]
  },
  {
   "cell_type": "code",
   "execution_count": 34,
   "metadata": {},
   "outputs": [],
   "source": [
    "scoring = 'accuracy'\n",
    "cv = 3\n",
    "n_iter = 70\n",
    "maximize = True\n",
    "score_fn = accuracy_score"
   ]
  },
  {
   "cell_type": "code",
   "execution_count": 35,
   "metadata": {},
   "outputs": [
    {
     "data": {
      "text/plain": [
       "dict_keys(['CLF 10 000 rows (.4 pos)', 'CLF 10 000 rows (.1 pos)', 'CLF 100 000 rows (.5 pos)'])"
      ]
     },
     "execution_count": 35,
     "metadata": {},
     "output_type": "execute_result"
    }
   ],
   "source": [
    "dfs.keys()"
   ]
  },
  {
   "cell_type": "markdown",
   "metadata": {},
   "source": [
    "### Dataset : 10 000 lignes (40% positif), metric : accuracy\n",
    "\n",
    "#### RF"
   ]
  },
  {
   "cell_type": "code",
   "execution_count": 118,
   "metadata": {},
   "outputs": [
    {
     "name": "stdout",
     "output_type": "stream",
     "text": [
      "==== BASE ====\n",
      "train best score : 0.8768 | test score : 0.8822\n",
      "\n",
      "Méthode : RandomSearch\n",
      "Fitting 3 folds for each of 70 candidates, totalling 210 fits\n"
     ]
    },
    {
     "name": "stderr",
     "output_type": "stream",
     "text": [
      "[Parallel(n_jobs=1)]: Using backend SequentialBackend with 1 concurrent workers.\n",
      "[Parallel(n_jobs=1)]: Done 210 out of 210 | elapsed:  2.7min finished\n"
     ]
    },
    {
     "name": "stdout",
     "output_type": "stream",
     "text": [
      "======\n",
      "temps écoulé : 164.41s\n",
      "train best score : 0.8798 | test score : 0.8920\n",
      "======\n",
      "\n",
      "Méthode : skopt\n",
      "======\n",
      "temps écoulé : 308.68s\n",
      "train best score : 0.8833 | test score : 0.8945\n",
      "======\n",
      "\n",
      "Méthode : BayesianOptimization\n",
      "======\n",
      "temps écoulé : 227.18s\n",
      "train best score : 0.8840 | test score : 0.8928\n",
      "======\n",
      "\n",
      "Méthode : optuna\n",
      "======\n",
      "temps écoulé : 303.38s\n",
      "train best score : 0.8858 | test score : 0.8912\n",
      "======\n",
      "\n",
      "Méthode : hyperopt\n",
      "100%|██████████| 70/70 [01:44<00:00,  1.49s/trial, best loss: -0.8808333333333334]\n",
      "======\n",
      "temps écoulé : 107.19s\n",
      "train best score : 0.8808 | test score : 0.8928\n",
      "======\n",
      "\n"
     ]
    }
   ],
   "source": [
    "estimator = RandomForestClassifier(n_estimators=50)\n",
    "df_name = 'CLF 10 000 rows (.4 pos)'\n",
    "X_train, y_train, X_test, y_test = dfs[df_name]\n",
    "res = benchmark_baye_opt(X_train, y_train, X_test, y_test, estimator, clf_rf_params, scoring, cv, n_iter, maximize, score_fn)\n",
    "\n",
    "results['RF -%s - %i iter - CV %i'%(df_name, n_iter, cv)] = res\n",
    "save_results(res, fpath='res/clf_rf_10000_40prct.sav.gzip')"
   ]
  },
  {
   "cell_type": "code",
   "execution_count": 119,
   "metadata": {},
   "outputs": [
    {
     "data": {
      "image/png": "[encoded data removed]",
      "text/plain": [
       "<Figure size 864x504 with 1 Axes>"
      ]
     },
     "metadata": {
      "needs_background": "light"
     },
     "output_type": "display_data"
    }
   ],
   "source": [
    "plot_convergence(res)"
   ]
  },
  {
   "cell_type": "code",
   "execution_count": 144,
   "metadata": {},
   "outputs": [
    {
     "data": {
      "text/html": [
       "<div>\n",
       "<style scoped>\n",
       "    .dataframe tbody tr th:only-of-type {\n",
       "        vertical-align: middle;\n",
       "    }\n",
       "\n",
       "    .dataframe tbody tr th {\n",
       "        vertical-align: top;\n",
       "    }\n",
       "\n",
       "    .dataframe thead th {\n",
       "        text-align: right;\n",
       "    }\n",
       "</style>\n",
       "<table border=\"1\" class=\"dataframe\">\n",
       "  <thead>\n",
       "    <tr style=\"text-align: right;\">\n",
       "      <th></th>\n",
       "      <th>train_score</th>\n",
       "      <th>idx_best_score</th>\n",
       "      <th>time</th>\n",
       "      <th>test_score</th>\n",
       "    </tr>\n",
       "  </thead>\n",
       "  <tbody>\n",
       "    <tr>\n",
       "      <th>skopt</th>\n",
       "      <td>0.883333</td>\n",
       "      <td>37.0</td>\n",
       "      <td>308.675633</td>\n",
       "      <td>0.89450</td>\n",
       "    </tr>\n",
       "    <tr>\n",
       "      <th>BayesianOptimization</th>\n",
       "      <td>0.884000</td>\n",
       "      <td>11.0</td>\n",
       "      <td>227.183776</td>\n",
       "      <td>0.89275</td>\n",
       "    </tr>\n",
       "    <tr>\n",
       "      <th>hyperopt</th>\n",
       "      <td>0.880833</td>\n",
       "      <td>62.0</td>\n",
       "      <td>107.192346</td>\n",
       "      <td>0.89275</td>\n",
       "    </tr>\n",
       "    <tr>\n",
       "      <th>RandomSearch</th>\n",
       "      <td>0.879833</td>\n",
       "      <td>0.0</td>\n",
       "      <td>164.409045</td>\n",
       "      <td>0.89200</td>\n",
       "    </tr>\n",
       "    <tr>\n",
       "      <th>optuna</th>\n",
       "      <td>0.885833</td>\n",
       "      <td>23.0</td>\n",
       "      <td>303.377071</td>\n",
       "      <td>0.89125</td>\n",
       "    </tr>\n",
       "  </tbody>\n",
       "</table>\n",
       "</div>"
      ],
      "text/plain": [
       "                      train_score  idx_best_score        time  test_score\n",
       "skopt                    0.883333            37.0  308.675633     0.89450\n",
       "BayesianOptimization     0.884000            11.0  227.183776     0.89275\n",
       "hyperopt                 0.880833            62.0  107.192346     0.89275\n",
       "RandomSearch             0.879833             0.0  164.409045     0.89200\n",
       "optuna                   0.885833            23.0  303.377071     0.89125"
      ]
     },
     "execution_count": 144,
     "metadata": {},
     "output_type": "execute_result"
    }
   ],
   "source": [
    "df_name = 'CLF 10 000 rows (.4 pos)'\n",
    "res = results['RF -%s - %i iter - CV %i'%(df_name, n_iter, cv)]\n",
    "get_results_as_df(res).sort_values(['test_score','train_score'], ascending=False)"
   ]
  },
  {
   "cell_type": "markdown",
   "metadata": {},
   "source": [
    "#### XGB"
   ]
  },
  {
   "cell_type": "code",
   "execution_count": 121,
   "metadata": {},
   "outputs": [
    {
     "name": "stdout",
     "output_type": "stream",
     "text": [
      "==== BASE ====\n",
      "train best score : 0.8830 | test score : 0.8938\n",
      "\n",
      "Méthode : RandomSearch\n",
      "Fitting 3 folds for each of 70 candidates, totalling 210 fits\n"
     ]
    },
    {
     "name": "stderr",
     "output_type": "stream",
     "text": [
      "[Parallel(n_jobs=1)]: Using backend SequentialBackend with 1 concurrent workers.\n",
      "[Parallel(n_jobs=1)]: Done 210 out of 210 | elapsed:  1.3min finished\n"
     ]
    },
    {
     "name": "stdout",
     "output_type": "stream",
     "text": [
      "======\n",
      "temps écoulé : 80.18s\n",
      "train best score : 0.8935 | test score : 0.9008\n",
      "======\n",
      "\n",
      "Méthode : skopt\n",
      "======\n",
      "temps écoulé : 180.73s\n",
      "train best score : 0.8990 | test score : 0.9062\n",
      "======\n",
      "\n",
      "Méthode : BayesianOptimization\n",
      "======\n",
      "temps écoulé : 112.09s\n",
      "train best score : 0.8983 | test score : 0.9045\n",
      "======\n",
      "\n",
      "Méthode : optuna\n",
      "======\n",
      "temps écoulé : 123.50s\n",
      "train best score : 0.9018 | test score : 0.9060\n",
      "======\n",
      "\n",
      "Méthode : hyperopt\n",
      "100%|██████████| 70/70 [01:56<00:00,  1.66s/trial, best loss: -0.8971666666666667]\n",
      "======\n",
      "temps écoulé : 118.26s\n",
      "train best score : 0.8972 | test score : 0.9040\n",
      "======\n",
      "\n"
     ]
    }
   ],
   "source": [
    "estimator = xgb.XGBClassifier(n_estimators=50, objective = \"binary:logistic\", eval_metric = \"logloss\")\n",
    "df_name = 'CLF 10 000 rows (.4 pos)'\n",
    "X_train, y_train, X_test, y_test = dfs[df_name]\n",
    "res = benchmark_baye_opt(X_train, y_train, X_test, y_test, estimator, clf_xgb_params, scoring, cv, n_iter, maximize, score_fn)\n",
    "\n",
    "results['XGB -%s - %i iter - CV %i'%(df_name, n_iter, cv)] = res\n",
    "save_results(res, fpath='res/clf_xgb_10000_40prct.sav.gzip')"
   ]
  },
  {
   "cell_type": "code",
   "execution_count": 122,
   "metadata": {},
   "outputs": [
    {
     "data": {
      "image/png": "[encoded data removed]",
      "text/plain": [
       "<Figure size 864x504 with 1 Axes>"
      ]
     },
     "metadata": {
      "needs_background": "light"
     },
     "output_type": "display_data"
    }
   ],
   "source": [
    "plot_convergence(res)"
   ]
  },
  {
   "cell_type": "code",
   "execution_count": 145,
   "metadata": {},
   "outputs": [
    {
     "data": {
      "text/html": [
       "<div>\n",
       "<style scoped>\n",
       "    .dataframe tbody tr th:only-of-type {\n",
       "        vertical-align: middle;\n",
       "    }\n",
       "\n",
       "    .dataframe tbody tr th {\n",
       "        vertical-align: top;\n",
       "    }\n",
       "\n",
       "    .dataframe thead th {\n",
       "        text-align: right;\n",
       "    }\n",
       "</style>\n",
       "<table border=\"1\" class=\"dataframe\">\n",
       "  <thead>\n",
       "    <tr style=\"text-align: right;\">\n",
       "      <th></th>\n",
       "      <th>train_score</th>\n",
       "      <th>idx_best_score</th>\n",
       "      <th>time</th>\n",
       "      <th>test_score</th>\n",
       "    </tr>\n",
       "  </thead>\n",
       "  <tbody>\n",
       "    <tr>\n",
       "      <th>skopt</th>\n",
       "      <td>0.899000</td>\n",
       "      <td>49.0</td>\n",
       "      <td>180.730585</td>\n",
       "      <td>0.90625</td>\n",
       "    </tr>\n",
       "    <tr>\n",
       "      <th>optuna</th>\n",
       "      <td>0.901833</td>\n",
       "      <td>52.0</td>\n",
       "      <td>123.498244</td>\n",
       "      <td>0.90600</td>\n",
       "    </tr>\n",
       "    <tr>\n",
       "      <th>BayesianOptimization</th>\n",
       "      <td>0.898333</td>\n",
       "      <td>35.0</td>\n",
       "      <td>112.094309</td>\n",
       "      <td>0.90450</td>\n",
       "    </tr>\n",
       "    <tr>\n",
       "      <th>hyperopt</th>\n",
       "      <td>0.897167</td>\n",
       "      <td>24.0</td>\n",
       "      <td>118.264393</td>\n",
       "      <td>0.90400</td>\n",
       "    </tr>\n",
       "    <tr>\n",
       "      <th>RandomSearch</th>\n",
       "      <td>0.893500</td>\n",
       "      <td>68.0</td>\n",
       "      <td>80.181544</td>\n",
       "      <td>0.90075</td>\n",
       "    </tr>\n",
       "  </tbody>\n",
       "</table>\n",
       "</div>"
      ],
      "text/plain": [
       "                      train_score  idx_best_score        time  test_score\n",
       "skopt                    0.899000            49.0  180.730585     0.90625\n",
       "optuna                   0.901833            52.0  123.498244     0.90600\n",
       "BayesianOptimization     0.898333            35.0  112.094309     0.90450\n",
       "hyperopt                 0.897167            24.0  118.264393     0.90400\n",
       "RandomSearch             0.893500            68.0   80.181544     0.90075"
      ]
     },
     "execution_count": 145,
     "metadata": {},
     "output_type": "execute_result"
    }
   ],
   "source": [
    "df_name = 'CLF 10 000 rows (.4 pos)'\n",
    "res = results['XGB -%s - %i iter - CV %i'%(df_name, n_iter, cv)]\n",
    "get_results_as_df(res).sort_values(['test_score','train_score'], ascending=False)"
   ]
  },
  {
   "cell_type": "markdown",
   "metadata": {},
   "source": [
    "#### SVM"
   ]
  },
  {
   "cell_type": "code",
   "execution_count": 36,
   "metadata": {},
   "outputs": [],
   "source": [
    "clf_svm_params = {\n",
    "    'RandomSearch': (opt_random, random_param),\n",
    "    'skopt': (opt_skopt, skopt_param),\n",
    "    'BayesianOptimization': (opt_bayesianopti, [bayesopt_param, bayesopt_details]),\n",
    "    'optuna': (opt_optuna, optuna_param),\n",
    "#     'hyperopt': (opt_hyperopt, hyperopt_param),\n",
    "}"
   ]
  },
  {
   "cell_type": "code",
   "execution_count": 37,
   "metadata": {},
   "outputs": [
    {
     "name": "stdout",
     "output_type": "stream",
     "text": [
      "==== BASE ====\n",
      "train best score : 0.8963 | test score : 0.9042\n",
      "\n",
      "Méthode : RandomSearch\n",
      "Fitting 3 folds for each of 70 candidates, totalling 210 fits\n"
     ]
    },
    {
     "name": "stderr",
     "output_type": "stream",
     "text": [
      "[Parallel(n_jobs=3)]: Using backend LokyBackend with 3 concurrent workers.\n",
      "[Parallel(n_jobs=3)]: Done  44 tasks      | elapsed:   41.8s\n",
      "[Parallel(n_jobs=3)]: Done 194 tasks      | elapsed:  2.6min\n",
      "[Parallel(n_jobs=3)]: Done 210 out of 210 | elapsed:  2.8min finished\n"
     ]
    },
    {
     "name": "stdout",
     "output_type": "stream",
     "text": [
      "======\n",
      "temps écoulé : 185.20s\n",
      "train best score : 0.9207 | test score : 0.9210\n",
      "======\n",
      "\n",
      "Méthode : skopt\n",
      "======\n",
      "temps écoulé : 604.00s\n",
      "train best score : 0.9228 | test score : 0.9277\n",
      "======\n",
      "\n",
      "Méthode : BayesianOptimization\n",
      "======\n",
      "temps écoulé : 948.58s\n",
      "train best score : 0.9212 | test score : 0.9147\n",
      "======\n",
      "\n",
      "Méthode : optuna\n",
      "======\n",
      "temps écoulé : 214.11s\n",
      "train best score : 0.9225 | test score : 0.9275\n",
      "======\n",
      "\n"
     ]
    }
   ],
   "source": [
    "estimator = SVC()\n",
    "df_name = 'CLF 10 000 rows (.4 pos)'\n",
    "X_train, y_train, X_test, y_test = dfs[df_name]\n",
    "res = benchmark_baye_opt(X_train, y_train, X_test, y_test, estimator, clf_svm_params, scoring, cv, n_iter, maximize, score_fn, n_jobs=3)\n",
    "\n",
    "results['SVM -%s - %i iter - CV %i'%(df_name, n_iter, cv)] = res\n",
    "save_results(res, fpath='res/clf_svm_10000_40prct.sav.gzip')"
   ]
  },
  {
   "cell_type": "code",
   "execution_count": 38,
   "metadata": {},
   "outputs": [
    {
     "data": {
      "text/plain": [
       "412"
      ]
     },
     "execution_count": 38,
     "metadata": {},
     "output_type": "execute_result"
    }
   ],
   "source": [
    "gc.collect()"
   ]
  },
  {
   "cell_type": "code",
   "execution_count": 39,
   "metadata": {},
   "outputs": [
    {
     "data": {
      "image/png": "[encoded data removed]",
      "text/plain": [
       "<Figure size 864x504 with 1 Axes>"
      ]
     },
     "metadata": {
      "needs_background": "light"
     },
     "output_type": "display_data"
    }
   ],
   "source": [
    "df_name = 'CLF 10 000 rows (.4 pos)'\n",
    "res = results['SVM -%s - %i iter - CV %i'%(df_name, n_iter, cv)]\n",
    "plot_convergence(res)"
   ]
  },
  {
   "cell_type": "code",
   "execution_count": 40,
   "metadata": {},
   "outputs": [
    {
     "data": {
      "text/html": [
       "<div>\n",
       "<style scoped>\n",
       "    .dataframe tbody tr th:only-of-type {\n",
       "        vertical-align: middle;\n",
       "    }\n",
       "\n",
       "    .dataframe tbody tr th {\n",
       "        vertical-align: top;\n",
       "    }\n",
       "\n",
       "    .dataframe thead th {\n",
       "        text-align: right;\n",
       "    }\n",
       "</style>\n",
       "<table border=\"1\" class=\"dataframe\">\n",
       "  <thead>\n",
       "    <tr style=\"text-align: right;\">\n",
       "      <th></th>\n",
       "      <th>train_score</th>\n",
       "      <th>idx_best_score</th>\n",
       "      <th>time</th>\n",
       "      <th>test_score</th>\n",
       "    </tr>\n",
       "  </thead>\n",
       "  <tbody>\n",
       "    <tr>\n",
       "      <th>skopt</th>\n",
       "      <td>0.922833</td>\n",
       "      <td>34.0</td>\n",
       "      <td>603.996701</td>\n",
       "      <td>0.92775</td>\n",
       "    </tr>\n",
       "    <tr>\n",
       "      <th>optuna</th>\n",
       "      <td>0.922500</td>\n",
       "      <td>17.0</td>\n",
       "      <td>214.113230</td>\n",
       "      <td>0.92750</td>\n",
       "    </tr>\n",
       "    <tr>\n",
       "      <th>RandomSearch</th>\n",
       "      <td>0.920667</td>\n",
       "      <td>8.0</td>\n",
       "      <td>185.196692</td>\n",
       "      <td>0.92100</td>\n",
       "    </tr>\n",
       "    <tr>\n",
       "      <th>BayesianOptimization</th>\n",
       "      <td>0.921167</td>\n",
       "      <td>43.0</td>\n",
       "      <td>948.583159</td>\n",
       "      <td>0.91475</td>\n",
       "    </tr>\n",
       "  </tbody>\n",
       "</table>\n",
       "</div>"
      ],
      "text/plain": [
       "                      train_score  idx_best_score        time  test_score\n",
       "skopt                    0.922833            34.0  603.996701     0.92775\n",
       "optuna                   0.922500            17.0  214.113230     0.92750\n",
       "RandomSearch             0.920667             8.0  185.196692     0.92100\n",
       "BayesianOptimization     0.921167            43.0  948.583159     0.91475"
      ]
     },
     "execution_count": 40,
     "metadata": {},
     "output_type": "execute_result"
    }
   ],
   "source": [
    "get_results_as_df(res).sort_values(['test_score','train_score'], ascending=False)"
   ]
  },
  {
   "cell_type": "code",
   "execution_count": null,
   "metadata": {},
   "outputs": [],
   "source": []
  },
  {
   "cell_type": "markdown",
   "metadata": {},
   "source": [
    "### Dataset : 10 000 lignes (10% positif), metric : f1 score\n",
    "\n",
    "#### RF"
   ]
  },
  {
   "cell_type": "code",
   "execution_count": 41,
   "metadata": {},
   "outputs": [],
   "source": [
    "scoring = 'f1'"
   ]
  },
  {
   "cell_type": "code",
   "execution_count": 130,
   "metadata": {},
   "outputs": [
    {
     "name": "stdout",
     "output_type": "stream",
     "text": [
      "==== BASE ====\n",
      "train best score : 0.9487 | test score : 0.9045\n",
      "\n",
      "Méthode : RandomSearch\n",
      "Fitting 3 folds for each of 70 candidates, totalling 210 fits\n"
     ]
    },
    {
     "name": "stderr",
     "output_type": "stream",
     "text": [
      "[Parallel(n_jobs=1)]: Using backend SequentialBackend with 1 concurrent workers.\n",
      "[Parallel(n_jobs=1)]: Done 210 out of 210 | elapsed:  3.1min finished\n"
     ]
    },
    {
     "name": "stdout",
     "output_type": "stream",
     "text": [
      "======\n",
      "temps écoulé : 190.47s\n",
      "train best score : 0.9483 | test score : 0.9040\n",
      "======\n",
      "\n",
      "Méthode : skopt\n",
      "======\n",
      "temps écoulé : 314.23s\n",
      "train best score : 0.9499 | test score : 0.9083\n",
      "======\n",
      "\n",
      "Méthode : BayesianOptimization\n",
      "======\n",
      "temps écoulé : 319.84s\n",
      "train best score : 0.9491 | test score : 0.9045\n",
      "======\n",
      "\n",
      "Méthode : optuna\n",
      "======\n",
      "temps écoulé : 312.24s\n",
      "train best score : 0.9483 | test score : 0.9038\n",
      "======\n",
      "\n",
      "Méthode : hyperopt\n",
      "100%|██████████| 70/70 [03:55<00:00,  3.37s/trial, best loss: -0.9480988885722037]\n",
      "======\n",
      "temps écoulé : 241.37s\n",
      "train best score : 0.9481 | test score : 0.9038\n",
      "======\n",
      "\n"
     ]
    }
   ],
   "source": [
    "estimator = RandomForestClassifier(n_estimators=50)\n",
    "df_name = 'CLF 10 000 rows (.1 pos)'\n",
    "X_train, y_train, X_test, y_test = dfs[df_name]\n",
    "res = benchmark_baye_opt(X_train, y_train, X_test, y_test, estimator, clf_rf_params, scoring, cv, n_iter, maximize, score_fn)\n",
    "\n",
    "results['RF -%s - %i iter - CV %i'%(df_name, n_iter, cv)] = res\n",
    "save_results(res, fpath='res/clf_rf_10000_10prct.sav.gzip')"
   ]
  },
  {
   "cell_type": "code",
   "execution_count": 132,
   "metadata": {},
   "outputs": [
    {
     "data": {
      "image/png": "[encoded data removed]",
      "text/plain": [
       "<Figure size 864x504 with 1 Axes>"
      ]
     },
     "metadata": {
      "needs_background": "light"
     },
     "output_type": "display_data"
    }
   ],
   "source": [
    "plot_convergence(res)"
   ]
  },
  {
   "cell_type": "code",
   "execution_count": 146,
   "metadata": {},
   "outputs": [
    {
     "data": {
      "text/html": [
       "<div>\n",
       "<style scoped>\n",
       "    .dataframe tbody tr th:only-of-type {\n",
       "        vertical-align: middle;\n",
       "    }\n",
       "\n",
       "    .dataframe tbody tr th {\n",
       "        vertical-align: top;\n",
       "    }\n",
       "\n",
       "    .dataframe thead th {\n",
       "        text-align: right;\n",
       "    }\n",
       "</style>\n",
       "<table border=\"1\" class=\"dataframe\">\n",
       "  <thead>\n",
       "    <tr style=\"text-align: right;\">\n",
       "      <th></th>\n",
       "      <th>train_score</th>\n",
       "      <th>idx_best_score</th>\n",
       "      <th>time</th>\n",
       "      <th>test_score</th>\n",
       "    </tr>\n",
       "  </thead>\n",
       "  <tbody>\n",
       "    <tr>\n",
       "      <th>skopt</th>\n",
       "      <td>0.949935</td>\n",
       "      <td>19.0</td>\n",
       "      <td>314.229724</td>\n",
       "      <td>0.90825</td>\n",
       "    </tr>\n",
       "    <tr>\n",
       "      <th>BayesianOptimization</th>\n",
       "      <td>0.949099</td>\n",
       "      <td>45.0</td>\n",
       "      <td>319.840899</td>\n",
       "      <td>0.90450</td>\n",
       "    </tr>\n",
       "    <tr>\n",
       "      <th>RandomSearch</th>\n",
       "      <td>0.948266</td>\n",
       "      <td>36.0</td>\n",
       "      <td>190.466790</td>\n",
       "      <td>0.90400</td>\n",
       "    </tr>\n",
       "    <tr>\n",
       "      <th>optuna</th>\n",
       "      <td>0.948265</td>\n",
       "      <td>33.0</td>\n",
       "      <td>312.243119</td>\n",
       "      <td>0.90375</td>\n",
       "    </tr>\n",
       "    <tr>\n",
       "      <th>hyperopt</th>\n",
       "      <td>0.948099</td>\n",
       "      <td>26.0</td>\n",
       "      <td>241.370649</td>\n",
       "      <td>0.90375</td>\n",
       "    </tr>\n",
       "  </tbody>\n",
       "</table>\n",
       "</div>"
      ],
      "text/plain": [
       "                      train_score  idx_best_score        time  test_score\n",
       "skopt                    0.949935            19.0  314.229724     0.90825\n",
       "BayesianOptimization     0.949099            45.0  319.840899     0.90450\n",
       "RandomSearch             0.948266            36.0  190.466790     0.90400\n",
       "optuna                   0.948265            33.0  312.243119     0.90375\n",
       "hyperopt                 0.948099            26.0  241.370649     0.90375"
      ]
     },
     "execution_count": 146,
     "metadata": {},
     "output_type": "execute_result"
    }
   ],
   "source": [
    "df_name = 'CLF 10 000 rows (.1 pos)'\n",
    "res = results['RF -%s - %i iter - CV %i'%(df_name, n_iter, cv)]\n",
    "get_results_as_df(res).sort_values(['test_score','train_score'], ascending=False)"
   ]
  },
  {
   "cell_type": "markdown",
   "metadata": {},
   "source": [
    "#### XGB"
   ]
  },
  {
   "cell_type": "code",
   "execution_count": 134,
   "metadata": {},
   "outputs": [
    {
     "name": "stdout",
     "output_type": "stream",
     "text": [
      "==== BASE ====\n",
      "train best score : 0.9584 | test score : 0.9280\n",
      "\n",
      "Méthode : RandomSearch\n",
      "Fitting 3 folds for each of 70 candidates, totalling 210 fits\n"
     ]
    },
    {
     "name": "stderr",
     "output_type": "stream",
     "text": [
      "[Parallel(n_jobs=1)]: Using backend SequentialBackend with 1 concurrent workers.\n",
      "[Parallel(n_jobs=1)]: Done 210 out of 210 | elapsed:  1.9min finished\n"
     ]
    },
    {
     "name": "stdout",
     "output_type": "stream",
     "text": [
      "======\n",
      "temps écoulé : 112.49s\n",
      "train best score : 0.9604 | test score : 0.9267\n",
      "======\n",
      "\n",
      "Méthode : skopt\n",
      "======\n",
      "temps écoulé : 166.26s\n",
      "train best score : 0.9601 | test score : 0.9293\n",
      "======\n",
      "\n",
      "Méthode : BayesianOptimization\n",
      "======\n",
      "temps écoulé : 129.24s\n",
      "train best score : 0.9606 | test score : 0.9280\n",
      "======\n",
      "\n",
      "Méthode : optuna\n",
      "======\n",
      "temps écoulé : 113.30s\n",
      "train best score : 0.9603 | test score : 0.9270\n",
      "======\n",
      "\n",
      "Méthode : hyperopt\n",
      "100%|██████████| 70/70 [02:40<00:00,  2.30s/trial, best loss: -0.959022787958104] \n",
      "======\n",
      "temps écoulé : 162.62s\n",
      "train best score : 0.9590 | test score : 0.9215\n",
      "======\n",
      "\n"
     ]
    }
   ],
   "source": [
    "estimator = xgb.XGBClassifier(n_estimators=50, objective = \"binary:logistic\", eval_metric = \"logloss\")\n",
    "df_name = 'CLF 10 000 rows (.1 pos)'\n",
    "X_train, y_train, X_test, y_test = dfs[df_name]\n",
    "res = benchmark_baye_opt(X_train, y_train, X_test, y_test, estimator, clf_xgb_params, scoring, cv, n_iter, maximize, score_fn)\n",
    "\n",
    "results['XGB -%s - %i iter - CV %i'%(df_name, n_iter, cv)] = res\n",
    "save_results(res, fpath='res/clf_xgb_10000_10prct.sav.gzip')"
   ]
  },
  {
   "cell_type": "code",
   "execution_count": 135,
   "metadata": {},
   "outputs": [
    {
     "data": {
      "image/png": "[encoded data removed]",
      "text/plain": [
       "<Figure size 864x504 with 1 Axes>"
      ]
     },
     "metadata": {
      "needs_background": "light"
     },
     "output_type": "display_data"
    }
   ],
   "source": [
    "plot_convergence(res)"
   ]
  },
  {
   "cell_type": "code",
   "execution_count": 147,
   "metadata": {},
   "outputs": [
    {
     "data": {
      "text/html": [
       "<div>\n",
       "<style scoped>\n",
       "    .dataframe tbody tr th:only-of-type {\n",
       "        vertical-align: middle;\n",
       "    }\n",
       "\n",
       "    .dataframe tbody tr th {\n",
       "        vertical-align: top;\n",
       "    }\n",
       "\n",
       "    .dataframe thead th {\n",
       "        text-align: right;\n",
       "    }\n",
       "</style>\n",
       "<table border=\"1\" class=\"dataframe\">\n",
       "  <thead>\n",
       "    <tr style=\"text-align: right;\">\n",
       "      <th></th>\n",
       "      <th>train_score</th>\n",
       "      <th>idx_best_score</th>\n",
       "      <th>time</th>\n",
       "      <th>test_score</th>\n",
       "    </tr>\n",
       "  </thead>\n",
       "  <tbody>\n",
       "    <tr>\n",
       "      <th>skopt</th>\n",
       "      <td>0.960128</td>\n",
       "      <td>32.0</td>\n",
       "      <td>166.261286</td>\n",
       "      <td>0.92925</td>\n",
       "    </tr>\n",
       "    <tr>\n",
       "      <th>BayesianOptimization</th>\n",
       "      <td>0.960587</td>\n",
       "      <td>24.0</td>\n",
       "      <td>129.239904</td>\n",
       "      <td>0.92800</td>\n",
       "    </tr>\n",
       "    <tr>\n",
       "      <th>optuna</th>\n",
       "      <td>0.960257</td>\n",
       "      <td>41.0</td>\n",
       "      <td>113.297766</td>\n",
       "      <td>0.92700</td>\n",
       "    </tr>\n",
       "    <tr>\n",
       "      <th>RandomSearch</th>\n",
       "      <td>0.960424</td>\n",
       "      <td>29.0</td>\n",
       "      <td>112.489041</td>\n",
       "      <td>0.92675</td>\n",
       "    </tr>\n",
       "    <tr>\n",
       "      <th>hyperopt</th>\n",
       "      <td>0.959023</td>\n",
       "      <td>56.0</td>\n",
       "      <td>162.621888</td>\n",
       "      <td>0.92150</td>\n",
       "    </tr>\n",
       "  </tbody>\n",
       "</table>\n",
       "</div>"
      ],
      "text/plain": [
       "                      train_score  idx_best_score        time  test_score\n",
       "skopt                    0.960128            32.0  166.261286     0.92925\n",
       "BayesianOptimization     0.960587            24.0  129.239904     0.92800\n",
       "optuna                   0.960257            41.0  113.297766     0.92700\n",
       "RandomSearch             0.960424            29.0  112.489041     0.92675\n",
       "hyperopt                 0.959023            56.0  162.621888     0.92150"
      ]
     },
     "execution_count": 147,
     "metadata": {},
     "output_type": "execute_result"
    }
   ],
   "source": [
    "df_name = 'CLF 10 000 rows (.1 pos)'\n",
    "res = results['XGB -%s - %i iter - CV %i'%(df_name, n_iter, cv)]\n",
    "get_results_as_df(res).sort_values(['test_score','train_score'], ascending=False)"
   ]
  },
  {
   "cell_type": "markdown",
   "metadata": {},
   "source": [
    "#### SVM"
   ]
  },
  {
   "cell_type": "code",
   "execution_count": 44,
   "metadata": {},
   "outputs": [
    {
     "name": "stdout",
     "output_type": "stream",
     "text": [
      "==== BASE ====\n",
      "train best score : 0.9680 | test score : 0.9465\n",
      "\n",
      "Méthode : RandomSearch\n",
      "Fitting 3 folds for each of 70 candidates, totalling 210 fits\n"
     ]
    },
    {
     "name": "stderr",
     "output_type": "stream",
     "text": [
      "[Parallel(n_jobs=1)]: Using backend SequentialBackend with 1 concurrent workers.\n",
      "[Parallel(n_jobs=1)]: Done 210 out of 210 | elapsed:  9.3min finished\n"
     ]
    },
    {
     "name": "stdout",
     "output_type": "stream",
     "text": [
      "======\n",
      "temps écoulé : 561.55s\n",
      "train best score : 0.9807 | test score : 0.9677\n",
      "======\n",
      "\n",
      "Méthode : skopt\n",
      "======\n",
      "temps écoulé : 763.13s\n",
      "train best score : 0.9816 | test score : 0.9688\n",
      "======\n",
      "\n",
      "Méthode : BayesianOptimization\n",
      "======\n",
      "temps écoulé : 1315.70s\n",
      "train best score : 0.9810 | test score : 0.9692\n",
      "======\n",
      "\n",
      "Méthode : optuna\n",
      "======\n",
      "temps écoulé : 596.84s\n",
      "train best score : 0.9813 | test score : 0.9698\n",
      "======\n",
      "\n"
     ]
    }
   ],
   "source": [
    "estimator = SVC()\n",
    "df_name = 'CLF 10 000 rows (.1 pos)'\n",
    "X_train, y_train, X_test, y_test = dfs[df_name]\n",
    "res = benchmark_baye_opt(X_train, y_train, X_test, y_test, estimator, clf_svm_params, scoring, cv, n_iter, maximize, score_fn)\n",
    "\n",
    "results['SVM -%s - %i iter - CV %i'%(df_name, n_iter, cv)] = res\n",
    "save_results(res, fpath='res/clf_svm_10000_10prct.sav.gzip')"
   ]
  },
  {
   "cell_type": "code",
   "execution_count": 45,
   "metadata": {},
   "outputs": [
    {
     "data": {
      "text/plain": [
       "214"
      ]
     },
     "execution_count": 45,
     "metadata": {},
     "output_type": "execute_result"
    }
   ],
   "source": [
    "gc.collect()"
   ]
  },
  {
   "cell_type": "code",
   "execution_count": 46,
   "metadata": {},
   "outputs": [
    {
     "data": {
      "image/png": "[encoded data removed]",
      "text/plain": [
       "<Figure size 864x504 with 1 Axes>"
      ]
     },
     "metadata": {
      "needs_background": "light"
     },
     "output_type": "display_data"
    }
   ],
   "source": [
    "df_name = 'CLF 10 000 rows (.1 pos)'\n",
    "res = results['SVM -%s - %i iter - CV %i'%(df_name, n_iter, cv)]\n",
    "plot_convergence(res)"
   ]
  },
  {
   "cell_type": "code",
   "execution_count": 47,
   "metadata": {},
   "outputs": [
    {
     "data": {
      "text/html": [
       "<div>\n",
       "<style scoped>\n",
       "    .dataframe tbody tr th:only-of-type {\n",
       "        vertical-align: middle;\n",
       "    }\n",
       "\n",
       "    .dataframe tbody tr th {\n",
       "        vertical-align: top;\n",
       "    }\n",
       "\n",
       "    .dataframe thead th {\n",
       "        text-align: right;\n",
       "    }\n",
       "</style>\n",
       "<table border=\"1\" class=\"dataframe\">\n",
       "  <thead>\n",
       "    <tr style=\"text-align: right;\">\n",
       "      <th></th>\n",
       "      <th>train_score</th>\n",
       "      <th>idx_best_score</th>\n",
       "      <th>time</th>\n",
       "      <th>test_score</th>\n",
       "    </tr>\n",
       "  </thead>\n",
       "  <tbody>\n",
       "    <tr>\n",
       "      <th>optuna</th>\n",
       "      <td>0.981319</td>\n",
       "      <td>64.0</td>\n",
       "      <td>596.839946</td>\n",
       "      <td>0.96975</td>\n",
       "    </tr>\n",
       "    <tr>\n",
       "      <th>BayesianOptimization</th>\n",
       "      <td>0.981035</td>\n",
       "      <td>11.0</td>\n",
       "      <td>1315.704954</td>\n",
       "      <td>0.96925</td>\n",
       "    </tr>\n",
       "    <tr>\n",
       "      <th>skopt</th>\n",
       "      <td>0.981596</td>\n",
       "      <td>68.0</td>\n",
       "      <td>763.133048</td>\n",
       "      <td>0.96875</td>\n",
       "    </tr>\n",
       "    <tr>\n",
       "      <th>RandomSearch</th>\n",
       "      <td>0.980745</td>\n",
       "      <td>12.0</td>\n",
       "      <td>561.546506</td>\n",
       "      <td>0.96775</td>\n",
       "    </tr>\n",
       "  </tbody>\n",
       "</table>\n",
       "</div>"
      ],
      "text/plain": [
       "                      train_score  idx_best_score         time  test_score\n",
       "optuna                   0.981319            64.0   596.839946     0.96975\n",
       "BayesianOptimization     0.981035            11.0  1315.704954     0.96925\n",
       "skopt                    0.981596            68.0   763.133048     0.96875\n",
       "RandomSearch             0.980745            12.0   561.546506     0.96775"
      ]
     },
     "execution_count": 47,
     "metadata": {},
     "output_type": "execute_result"
    }
   ],
   "source": [
    "get_results_as_df(res).sort_values(['test_score','train_score'], ascending=False)"
   ]
  },
  {
   "cell_type": "code",
   "execution_count": null,
   "metadata": {},
   "outputs": [],
   "source": []
  },
  {
   "cell_type": "code",
   "execution_count": null,
   "metadata": {},
   "outputs": [],
   "source": []
  },
  {
   "cell_type": "markdown",
   "metadata": {},
   "source": [
    "### Dataset : 1 000 000 lignes (50% positif), metric : accuracy\n",
    "\n",
    "#### RF"
   ]
  },
  {
   "cell_type": "code",
   "execution_count": 28,
   "metadata": {},
   "outputs": [
    {
     "data": {
      "text/plain": [
       "dict_keys(['CLF 10 000 rows (.4 pos)', 'CLF 10 000 rows (.1 pos)', 'CLF 1 000 000 rows (.5 pos)', 'CLF 100 000 rows (.5 pos)'])"
      ]
     },
     "execution_count": 28,
     "metadata": {},
     "output_type": "execute_result"
    }
   ],
   "source": [
    "dfs.keys()"
   ]
  },
  {
   "cell_type": "code",
   "execution_count": 29,
   "metadata": {},
   "outputs": [],
   "source": [
    "scoring = 'accuracy'"
   ]
  },
  {
   "cell_type": "code",
   "execution_count": 30,
   "metadata": {},
   "outputs": [
    {
     "name": "stdout",
     "output_type": "stream",
     "text": [
      "==== BASE ====\n",
      "train best score : 0.8985 | test score : 0.9072\n",
      "\n",
      "Méthode : RandomSearch\n",
      "Fitting 3 folds for each of 70 candidates, totalling 210 fits\n"
     ]
    },
    {
     "name": "stderr",
     "output_type": "stream",
     "text": [
      "[Parallel(n_jobs=3)]: Using backend LokyBackend with 3 concurrent workers.\n",
      "[Parallel(n_jobs=3)]: Done  44 tasks      | elapsed:  6.6min\n",
      "[Parallel(n_jobs=3)]: Done 194 tasks      | elapsed: 22.9min\n",
      "[Parallel(n_jobs=3)]: Done 210 out of 210 | elapsed: 24.8min finished\n"
     ]
    },
    {
     "name": "stdout",
     "output_type": "stream",
     "text": [
      "======\n",
      "temps écoulé : 1514.63s\n",
      "train best score : 0.8969 | test score : 0.9101\n",
      "======\n",
      "\n",
      "Méthode : skopt\n",
      "======\n",
      "temps écoulé : 2083.70s\n",
      "train best score : 0.9018 | test score : 0.9130\n",
      "======\n",
      "\n",
      "Méthode : BayesianOptimization\n",
      "======\n",
      "temps écoulé : 1773.65s\n",
      "train best score : 0.9020 | test score : 0.9100\n",
      "======\n",
      "\n",
      "Méthode : optuna\n",
      "======\n",
      "temps écoulé : 1711.56s\n",
      "train best score : 0.9002 | test score : 0.9108\n",
      "======\n",
      "\n",
      "Méthode : hyperopt\n",
      "100%|██████████| 70/70 [24:18<00:00, 20.83s/trial, best loss: -0.8973833333333333]\n",
      "======\n",
      "temps écoulé : 1593.06s\n",
      "train best score : 0.8974 | test score : 0.9067\n",
      "======\n",
      "\n"
     ]
    }
   ],
   "source": [
    "estimator = RandomForestClassifier(n_estimators=50)\n",
    "df_name = 'CLF 100 000 rows (.5 pos)'\n",
    "X_train, y_train, X_test, y_test = dfs[df_name]\n",
    "res = benchmark_baye_opt(X_train, y_train, X_test, y_test, estimator, clf_rf_params, scoring, cv, n_iter, maximize, score_fn, n_jobs=3)\n",
    "\n",
    "results['RF -%s - %i iter - CV %i'%(df_name, n_iter, cv)] = res\n",
    "save_results(res, fpath='res/clf_rf_100000_50prct.sav.gzip')"
   ]
  },
  {
   "cell_type": "code",
   "execution_count": 31,
   "metadata": {},
   "outputs": [
    {
     "data": {
      "text/plain": [
       "204"
      ]
     },
     "execution_count": 31,
     "metadata": {},
     "output_type": "execute_result"
    }
   ],
   "source": [
    "gc.collect()"
   ]
  },
  {
   "cell_type": "code",
   "execution_count": 32,
   "metadata": {},
   "outputs": [],
   "source": [
    "df_name = 'CLF 100 000 rows (.5 pos)'\n",
    "res = results['RF -%s - %i iter - CV %i'%(df_name, n_iter, cv)]"
   ]
  },
  {
   "cell_type": "code",
   "execution_count": 33,
   "metadata": {},
   "outputs": [
    {
     "data": {
      "image/png": "[encoded data removed]",
      "text/plain": [
       "<Figure size 864x504 with 1 Axes>"
      ]
     },
     "metadata": {
      "needs_background": "light"
     },
     "output_type": "display_data"
    }
   ],
   "source": [
    "plot_convergence(res)"
   ]
  },
  {
   "cell_type": "code",
   "execution_count": 34,
   "metadata": {},
   "outputs": [
    {
     "data": {
      "text/html": [
       "<div>\n",
       "<style scoped>\n",
       "    .dataframe tbody tr th:only-of-type {\n",
       "        vertical-align: middle;\n",
       "    }\n",
       "\n",
       "    .dataframe tbody tr th {\n",
       "        vertical-align: top;\n",
       "    }\n",
       "\n",
       "    .dataframe thead th {\n",
       "        text-align: right;\n",
       "    }\n",
       "</style>\n",
       "<table border=\"1\" class=\"dataframe\">\n",
       "  <thead>\n",
       "    <tr style=\"text-align: right;\">\n",
       "      <th></th>\n",
       "      <th>train_score</th>\n",
       "      <th>idx_best_score</th>\n",
       "      <th>time</th>\n",
       "      <th>test_score</th>\n",
       "    </tr>\n",
       "  </thead>\n",
       "  <tbody>\n",
       "    <tr>\n",
       "      <th>skopt</th>\n",
       "      <td>0.901817</td>\n",
       "      <td>39.0</td>\n",
       "      <td>2083.696280</td>\n",
       "      <td>0.912975</td>\n",
       "    </tr>\n",
       "    <tr>\n",
       "      <th>optuna</th>\n",
       "      <td>0.900150</td>\n",
       "      <td>31.0</td>\n",
       "      <td>1711.556025</td>\n",
       "      <td>0.910825</td>\n",
       "    </tr>\n",
       "    <tr>\n",
       "      <th>RandomSearch</th>\n",
       "      <td>0.896850</td>\n",
       "      <td>31.0</td>\n",
       "      <td>1514.627317</td>\n",
       "      <td>0.910100</td>\n",
       "    </tr>\n",
       "    <tr>\n",
       "      <th>BayesianOptimization</th>\n",
       "      <td>0.902033</td>\n",
       "      <td>52.0</td>\n",
       "      <td>1773.646472</td>\n",
       "      <td>0.910000</td>\n",
       "    </tr>\n",
       "    <tr>\n",
       "      <th>hyperopt</th>\n",
       "      <td>0.897383</td>\n",
       "      <td>66.0</td>\n",
       "      <td>1593.055864</td>\n",
       "      <td>0.906725</td>\n",
       "    </tr>\n",
       "  </tbody>\n",
       "</table>\n",
       "</div>"
      ],
      "text/plain": [
       "                      train_score  idx_best_score         time  test_score\n",
       "skopt                    0.901817            39.0  2083.696280    0.912975\n",
       "optuna                   0.900150            31.0  1711.556025    0.910825\n",
       "RandomSearch             0.896850            31.0  1514.627317    0.910100\n",
       "BayesianOptimization     0.902033            52.0  1773.646472    0.910000\n",
       "hyperopt                 0.897383            66.0  1593.055864    0.906725"
      ]
     },
     "execution_count": 34,
     "metadata": {},
     "output_type": "execute_result"
    }
   ],
   "source": [
    "get_results_as_df(res).sort_values(['test_score','train_score'], ascending=False)"
   ]
  },
  {
   "cell_type": "markdown",
   "metadata": {},
   "source": [
    "#### XGB"
   ]
  },
  {
   "cell_type": "code",
   "execution_count": 35,
   "metadata": {},
   "outputs": [
    {
     "name": "stdout",
     "output_type": "stream",
     "text": [
      "==== BASE ====\n",
      "train best score : 0.8999 | test score : 0.9047\n",
      "\n",
      "Méthode : RandomSearch\n",
      "Fitting 3 folds for each of 70 candidates, totalling 210 fits\n"
     ]
    },
    {
     "name": "stderr",
     "output_type": "stream",
     "text": [
      "[Parallel(n_jobs=3)]: Using backend LokyBackend with 3 concurrent workers.\n",
      "[Parallel(n_jobs=3)]: Done  44 tasks      | elapsed:  7.5min\n",
      "[Parallel(n_jobs=3)]: Done 194 tasks      | elapsed: 29.8min\n",
      "[Parallel(n_jobs=3)]: Done 210 out of 210 | elapsed: 32.3min finished\n"
     ]
    },
    {
     "name": "stdout",
     "output_type": "stream",
     "text": [
      "======\n",
      "temps écoulé : 1955.18s\n",
      "train best score : 0.9320 | test score : 0.9422\n",
      "======\n",
      "\n",
      "Méthode : skopt\n",
      "======\n",
      "temps écoulé : 2607.98s\n",
      "train best score : 0.9335 | test score : 0.9405\n",
      "======\n",
      "\n",
      "Méthode : BayesianOptimization\n",
      "======\n",
      "temps écoulé : 2073.40s\n",
      "train best score : 0.9326 | test score : 0.9401\n",
      "======\n",
      "\n",
      "Méthode : optuna\n",
      "======\n",
      "temps écoulé : 2282.76s\n",
      "train best score : 0.9332 | test score : 0.9394\n",
      "======\n",
      "\n",
      "Méthode : hyperopt\n",
      "100%|██████████| 70/70 [42:32<00:00, 36.46s/trial, best loss: -0.9317833333333333]\n",
      "======\n",
      "temps écoulé : 2632.43s\n",
      "train best score : 0.9318 | test score : 0.9390\n",
      "======\n",
      "\n"
     ]
    }
   ],
   "source": [
    "estimator = xgb.XGBClassifier(n_estimators=50, objective = \"binary:logistic\", eval_metric = \"logloss\")\n",
    "df_name = 'CLF 100 000 rows (.5 pos)'\n",
    "X_train, y_train, X_test, y_test = dfs[df_name]\n",
    "res = benchmark_baye_opt(X_train, y_train, X_test, y_test, estimator, clf_xgb_params, scoring, cv, n_iter, maximize, score_fn, n_jobs=3)\n",
    "\n",
    "results['XGB -%s - %i iter - CV %i'%(df_name, n_iter, cv)] = res\n",
    "save_results(res, fpath='res/clf_xgb_100000_50prct.sav.gzip')"
   ]
  },
  {
   "cell_type": "code",
   "execution_count": 36,
   "metadata": {},
   "outputs": [
    {
     "data": {
      "text/plain": [
       "72"
      ]
     },
     "execution_count": 36,
     "metadata": {},
     "output_type": "execute_result"
    }
   ],
   "source": [
    "gc.collect()"
   ]
  },
  {
   "cell_type": "code",
   "execution_count": 37,
   "metadata": {},
   "outputs": [],
   "source": [
    "df_name = 'CLF 100 000 rows (.5 pos)'\n",
    "res = results['XGB -%s - %i iter - CV %i'%(df_name, n_iter, cv)]"
   ]
  },
  {
   "cell_type": "code",
   "execution_count": 38,
   "metadata": {},
   "outputs": [
    {
     "data": {
      "image/png": "[encoded data removed]",
      "text/plain": [
       "<Figure size 864x504 with 1 Axes>"
      ]
     },
     "metadata": {
      "needs_background": "light"
     },
     "output_type": "display_data"
    }
   ],
   "source": [
    "plot_convergence(res)"
   ]
  },
  {
   "cell_type": "code",
   "execution_count": 39,
   "metadata": {},
   "outputs": [
    {
     "data": {
      "text/html": [
       "<div>\n",
       "<style scoped>\n",
       "    .dataframe tbody tr th:only-of-type {\n",
       "        vertical-align: middle;\n",
       "    }\n",
       "\n",
       "    .dataframe tbody tr th {\n",
       "        vertical-align: top;\n",
       "    }\n",
       "\n",
       "    .dataframe thead th {\n",
       "        text-align: right;\n",
       "    }\n",
       "</style>\n",
       "<table border=\"1\" class=\"dataframe\">\n",
       "  <thead>\n",
       "    <tr style=\"text-align: right;\">\n",
       "      <th></th>\n",
       "      <th>train_score</th>\n",
       "      <th>idx_best_score</th>\n",
       "      <th>time</th>\n",
       "      <th>test_score</th>\n",
       "    </tr>\n",
       "  </thead>\n",
       "  <tbody>\n",
       "    <tr>\n",
       "      <th>RandomSearch</th>\n",
       "      <td>0.931967</td>\n",
       "      <td>37.0</td>\n",
       "      <td>1955.178202</td>\n",
       "      <td>0.942225</td>\n",
       "    </tr>\n",
       "    <tr>\n",
       "      <th>skopt</th>\n",
       "      <td>0.933483</td>\n",
       "      <td>49.0</td>\n",
       "      <td>2607.981022</td>\n",
       "      <td>0.940525</td>\n",
       "    </tr>\n",
       "    <tr>\n",
       "      <th>BayesianOptimization</th>\n",
       "      <td>0.932617</td>\n",
       "      <td>67.0</td>\n",
       "      <td>2073.395979</td>\n",
       "      <td>0.940125</td>\n",
       "    </tr>\n",
       "    <tr>\n",
       "      <th>optuna</th>\n",
       "      <td>0.933233</td>\n",
       "      <td>63.0</td>\n",
       "      <td>2282.761767</td>\n",
       "      <td>0.939400</td>\n",
       "    </tr>\n",
       "    <tr>\n",
       "      <th>hyperopt</th>\n",
       "      <td>0.931783</td>\n",
       "      <td>48.0</td>\n",
       "      <td>2632.430414</td>\n",
       "      <td>0.939000</td>\n",
       "    </tr>\n",
       "  </tbody>\n",
       "</table>\n",
       "</div>"
      ],
      "text/plain": [
       "                      train_score  idx_best_score         time  test_score\n",
       "RandomSearch             0.931967            37.0  1955.178202    0.942225\n",
       "skopt                    0.933483            49.0  2607.981022    0.940525\n",
       "BayesianOptimization     0.932617            67.0  2073.395979    0.940125\n",
       "optuna                   0.933233            63.0  2282.761767    0.939400\n",
       "hyperopt                 0.931783            48.0  2632.430414    0.939000"
      ]
     },
     "execution_count": 39,
     "metadata": {},
     "output_type": "execute_result"
    }
   ],
   "source": [
    "get_results_as_df(res).sort_values(['test_score','train_score'], ascending=False)"
   ]
  },
  {
   "cell_type": "code",
   "execution_count": null,
   "metadata": {},
   "outputs": [],
   "source": []
  },
  {
   "cell_type": "code",
   "execution_count": null,
   "metadata": {},
   "outputs": [],
   "source": []
  },
  {
   "cell_type": "code",
   "execution_count": null,
   "metadata": {},
   "outputs": [],
   "source": []
  },
  {
   "cell_type": "code",
   "execution_count": null,
   "metadata": {},
   "outputs": [],
   "source": []
  },
  {
   "cell_type": "code",
   "execution_count": null,
   "metadata": {},
   "outputs": [],
   "source": []
  },
  {
   "cell_type": "code",
   "execution_count": null,
   "metadata": {},
   "outputs": [],
   "source": []
  },
  {
   "cell_type": "code",
   "execution_count": 104,
   "metadata": {},
   "outputs": [
    {
     "data": {
      "image/png": "[encoded data removed]",
      "text/plain": [
       "<Figure size 864x504 with 1 Axes>"
      ]
     },
     "metadata": {
      "needs_background": "light"
     },
     "output_type": "display_data"
    }
   ],
   "source": [
    "plot_convergence(results['XGB -CLF 10 000 rows (.4 pos) - 10 iter - CV 3'])"
   ]
  },
  {
   "cell_type": "code",
   "execution_count": 113,
   "metadata": {},
   "outputs": [],
   "source": []
  },
  {
   "cell_type": "code",
   "execution_count": 114,
   "metadata": {},
   "outputs": [
    {
     "data": {
      "text/html": [
       "<div>\n",
       "<style scoped>\n",
       "    .dataframe tbody tr th:only-of-type {\n",
       "        vertical-align: middle;\n",
       "    }\n",
       "\n",
       "    .dataframe tbody tr th {\n",
       "        vertical-align: top;\n",
       "    }\n",
       "\n",
       "    .dataframe thead th {\n",
       "        text-align: right;\n",
       "    }\n",
       "</style>\n",
       "<table border=\"1\" class=\"dataframe\">\n",
       "  <thead>\n",
       "    <tr style=\"text-align: right;\">\n",
       "      <th></th>\n",
       "      <th>train_score</th>\n",
       "      <th>idx_best_score</th>\n",
       "      <th>time</th>\n",
       "      <th>test_score</th>\n",
       "    </tr>\n",
       "  </thead>\n",
       "  <tbody>\n",
       "    <tr>\n",
       "      <th>RandomSearch</th>\n",
       "      <td>0.888500</td>\n",
       "      <td>6.0</td>\n",
       "      <td>5.896104</td>\n",
       "      <td>0.89525</td>\n",
       "    </tr>\n",
       "    <tr>\n",
       "      <th>skopt</th>\n",
       "      <td>0.886833</td>\n",
       "      <td>3.0</td>\n",
       "      <td>9.695935</td>\n",
       "      <td>0.89550</td>\n",
       "    </tr>\n",
       "    <tr>\n",
       "      <th>BayesianOptimization</th>\n",
       "      <td>0.887500</td>\n",
       "      <td>4.0</td>\n",
       "      <td>12.549435</td>\n",
       "      <td>0.89700</td>\n",
       "    </tr>\n",
       "    <tr>\n",
       "      <th>optuna</th>\n",
       "      <td>0.887167</td>\n",
       "      <td>4.0</td>\n",
       "      <td>8.754959</td>\n",
       "      <td>0.89725</td>\n",
       "    </tr>\n",
       "    <tr>\n",
       "      <th>hyperopt</th>\n",
       "      <td>0.887833</td>\n",
       "      <td>7.0</td>\n",
       "      <td>11.559999</td>\n",
       "      <td>0.88950</td>\n",
       "    </tr>\n",
       "  </tbody>\n",
       "</table>\n",
       "</div>"
      ],
      "text/plain": [
       "                      train_score  idx_best_score       time  test_score\n",
       "RandomSearch             0.888500             6.0   5.896104     0.89525\n",
       "skopt                    0.886833             3.0   9.695935     0.89550\n",
       "BayesianOptimization     0.887500             4.0  12.549435     0.89700\n",
       "optuna                   0.887167             4.0   8.754959     0.89725\n",
       "hyperopt                 0.887833             7.0  11.559999     0.88950"
      ]
     },
     "execution_count": 114,
     "metadata": {},
     "output_type": "execute_result"
    }
   ],
   "source": [
    "get_results_as_df(results['XGB -CLF 10 000 rows (.4 pos) - 10 iter - CV 3'])"
   ]
  },
  {
   "cell_type": "code",
   "execution_count": null,
   "metadata": {},
   "outputs": [],
   "source": []
  },
  {
   "cell_type": "code",
   "execution_count": null,
   "metadata": {},
   "outputs": [],
   "source": []
  },
  {
   "cell_type": "code",
   "execution_count": null,
   "metadata": {},
   "outputs": [],
   "source": []
  },
  {
   "cell_type": "code",
   "execution_count": null,
   "metadata": {},
   "outputs": [],
   "source": []
  },
  {
   "cell_type": "code",
   "execution_count": null,
   "metadata": {},
   "outputs": [],
   "source": []
  },
  {
   "cell_type": "code",
   "execution_count": null,
   "metadata": {},
   "outputs": [],
   "source": []
  },
  {
   "cell_type": "code",
   "execution_count": null,
   "metadata": {},
   "outputs": [],
   "source": []
  },
  {
   "cell_type": "code",
   "execution_count": null,
   "metadata": {},
   "outputs": [],
   "source": []
  },
  {
   "cell_type": "code",
   "execution_count": 55,
   "metadata": {},
   "outputs": [
    {
     "name": "stdout",
     "output_type": "stream",
     "text": [
      "{'xi': 100, 'kappa': 100}\n",
      "{'xi': 50.0, 'kappa': 50.0}\n",
      "{'xi': 25.0, 'kappa': 25.0}\n",
      "{'xi': 12.5, 'kappa': 12.5}\n",
      "{'xi': 6.25, 'kappa': 6.25}\n",
      "{'xi': 3.125, 'kappa': 3.125}\n",
      "{'xi': 1.5625, 'kappa': 1.5625}\n",
      "{'xi': 0.78125, 'kappa': 0.78125}\n",
      "{'xi': 0.390625, 'kappa': 0.390625}\n",
      "{'xi': 0.1953125, 'kappa': 0.1953125}\n",
      "{'xi': 0.09765625, 'kappa': 0.09765625}\n",
      "{'xi': 0.048828125, 'kappa': 0.048828125}\n",
      "{'xi': 0.0244140625, 'kappa': 0.0244140625}\n",
      "{'xi': 0.01220703125, 'kappa': 0.01220703125}\n",
      "{'xi': 0.006103515625, 'kappa': 0.006103515625}\n",
      "{'xi': 0.0030517578125, 'kappa': 0.0030517578125}\n",
      "{'xi': 0.00152587890625, 'kappa': 0.00152587890625}\n",
      "{'xi': 0.00152587890625, 'kappa': 0.00152587890625}\n",
      "{'xi': 0.00152587890625, 'kappa': 0.00152587890625}\n",
      "{'xi': 0.00152587890625, 'kappa': 0.00152587890625}\n",
      "{'xi': 0.00152587890625, 'kappa': 0.00152587890625}\n",
      "{'xi': 0.00152587890625, 'kappa': 0.00152587890625}\n",
      "{'xi': 0.00152587890625, 'kappa': 0.00152587890625}\n",
      "{'xi': 0.00152587890625, 'kappa': 0.00152587890625}\n",
      "{'xi': 0.00152587890625, 'kappa': 0.00152587890625}\n",
      "{'xi': 0.00152587890625, 'kappa': 0.00152587890625}\n",
      "{'xi': 0.00152587890625, 'kappa': 0.00152587890625}\n",
      "{'xi': 0.00152587890625, 'kappa': 0.00152587890625}\n",
      "{'xi': 0.00152587890625, 'kappa': 0.00152587890625}\n",
      "{'xi': 0.00152587890625, 'kappa': 0.00152587890625}\n"
     ]
    }
   ],
   "source": [
    "param_search = {\n",
    "    'criterion': ['gini','entropy'],\n",
    "    'max_depth': (2, 200),\n",
    "    'max_features': (2,10),\n",
    "    'min_samples_leaf': (1, 10),\n",
    "    'min_samples_split': (2, 50),\n",
    "}\n",
    "estimator = RandomForestClassifier(n_estimators=30)\n",
    "\n",
    "opt = BayesianSearchCV_skopt(\n",
    "    estimator,\n",
    "    param_search,\n",
    "    n_iter=50,\n",
    "    cv=3,\n",
    "    n_jobs=4,\n",
    "    scoring='accuracy',\n",
    "    random_state=42,\n",
    "    maximize=True, \n",
    "    \n",
    "    n_initial_points=20,\n",
    "#     init_params=init_params,\n",
    "    exploration_decay=0.5,\n",
    "    exploration_min=0.001,\n",
    "    \n",
    "#     acq_func=\"EI\", acq_optimizer=\"sampling\",\n",
    "    acq_func_kwargs = {\"xi\": 100, \"kappa\": 100}\n",
    ")\n",
    "\n",
    "opt.fit(X_train, y_train)"
   ]
  },
  {
   "cell_type": "code",
   "execution_count": 76,
   "metadata": {},
   "outputs": [
    {
     "name": "stdout",
     "output_type": "stream",
     "text": [
      "train CV score : 0.8774292397995893\n",
      "test score : 0.8863333333333333\n"
     ]
    }
   ],
   "source": [
    "score = cross_val_score(opt.best_estimator_, X_train, y_train, cv=cv, scoring=scoring).mean()\n",
    "score_test = score_fn(opt.best_estimator_.predict(X_test), y_test)\n",
    "print('train CV score :', score)\n",
    "print('test score :', score_test)"
   ]
  },
  {
   "cell_type": "code",
   "execution_count": 59,
   "metadata": {},
   "outputs": [
    {
     "data": {
      "image/png": "[encoded data removed]",
      "text/plain": [
       "<Figure size 432x288 with 1 Axes>"
      ]
     },
     "metadata": {
      "needs_background": "light"
     },
     "output_type": "display_data"
    }
   ],
   "source": [
    "opt.plot_convergence()"
   ]
  },
  {
   "cell_type": "code",
   "execution_count": 73,
   "metadata": {},
   "outputs": [
    {
     "data": {
      "image/png": "[encoded data removed]",
      "text/plain": [
       "<Figure size 720x720 with 25 Axes>"
      ]
     },
     "metadata": {
      "needs_background": "light"
     },
     "output_type": "display_data"
    }
   ],
   "source": [
    "opt.plot_objective()"
   ]
  },
  {
   "cell_type": "code",
   "execution_count": null,
   "metadata": {},
   "outputs": [],
   "source": []
  }
 ],
 "metadata": {
  "kernelspec": {
   "display_name": "benchmark_bayes_opti",
   "language": "python",
   "name": "benchmark_bayes_opti"
  },
  "language_info": {
   "codemirror_mode": {
    "name": "ipython",
    "version": 3
   },
   "file_extension": ".py",
   "mimetype": "text/x-python",
   "name": "python",
   "nbconvert_exporter": "python",
   "pygments_lexer": "ipython3",
   "version": "3.7.9"
  }
 },
 "nbformat": 4,
 "nbformat_minor": 4
}
